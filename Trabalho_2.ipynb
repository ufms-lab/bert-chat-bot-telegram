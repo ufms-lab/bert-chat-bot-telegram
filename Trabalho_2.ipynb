{
  "cells": [
    {
      "cell_type": "code",
      "execution_count": null,
      "metadata": {
        "colab": {
          "base_uri": "https://localhost:8080/"
        },
        "id": "GtL8KSchkDJz",
        "outputId": "2fd2471d-de1b-497c-802a-0e0ee977e1da"
      },
      "outputs": [
        {
          "output_type": "stream",
          "name": "stdout",
          "text": [
            "Looking in indexes: https://pypi.org/simple, https://us-python.pkg.dev/colab-wheels/public/simple/\n",
            "Requirement already satisfied: transformers in /usr/local/lib/python3.8/dist-packages (4.24.0)\n",
            "Requirement already satisfied: filelock in /usr/local/lib/python3.8/dist-packages (from transformers) (3.8.0)\n",
            "Requirement already satisfied: tokenizers!=0.11.3,<0.14,>=0.11.1 in /usr/local/lib/python3.8/dist-packages (from transformers) (0.13.2)\n",
            "Requirement already satisfied: numpy>=1.17 in /usr/local/lib/python3.8/dist-packages (from transformers) (1.21.6)\n",
            "Requirement already satisfied: tqdm>=4.27 in /usr/local/lib/python3.8/dist-packages (from transformers) (4.64.1)\n",
            "Requirement already satisfied: pyyaml>=5.1 in /usr/local/lib/python3.8/dist-packages (from transformers) (6.0)\n",
            "Requirement already satisfied: regex!=2019.12.17 in /usr/local/lib/python3.8/dist-packages (from transformers) (2022.6.2)\n",
            "Requirement already satisfied: packaging>=20.0 in /usr/local/lib/python3.8/dist-packages (from transformers) (21.3)\n",
            "Requirement already satisfied: requests in /usr/local/lib/python3.8/dist-packages (from transformers) (2.23.0)\n",
            "Requirement already satisfied: huggingface-hub<1.0,>=0.10.0 in /usr/local/lib/python3.8/dist-packages (from transformers) (0.11.1)\n",
            "Requirement already satisfied: typing-extensions>=3.7.4.3 in /usr/local/lib/python3.8/dist-packages (from huggingface-hub<1.0,>=0.10.0->transformers) (4.1.1)\n",
            "Requirement already satisfied: pyparsing!=3.0.5,>=2.0.2 in /usr/local/lib/python3.8/dist-packages (from packaging>=20.0->transformers) (3.0.9)\n",
            "Requirement already satisfied: chardet<4,>=3.0.2 in /usr/local/lib/python3.8/dist-packages (from requests->transformers) (3.0.4)\n",
            "Requirement already satisfied: idna<3,>=2.5 in /usr/local/lib/python3.8/dist-packages (from requests->transformers) (2.10)\n",
            "Requirement already satisfied: urllib3!=1.25.0,!=1.25.1,<1.26,>=1.21.1 in /usr/local/lib/python3.8/dist-packages (from requests->transformers) (1.24.3)\n",
            "Requirement already satisfied: certifi>=2017.4.17 in /usr/local/lib/python3.8/dist-packages (from requests->transformers) (2022.9.24)\n"
          ]
        }
      ],
      "source": [
        "!pip install transformers"
      ]
    },
    {
      "cell_type": "markdown",
      "metadata": {
        "id": "11pFLvDCjoH7"
      },
      "source": [
        "# Redes Neurais - Trabalho 2\n",
        "\n",
        "#### Chat-bot\n",
        "\n",
        "Trained classes:\n",
        "- apresentacao\n",
        "- cardapio\n",
        "- tempo_entrega\n",
        "- horario_funcionamento\n",
        "- fazer_pedido\n",
        "- confirmar_pedido\n",
        "- cancelar_pedido\n",
        "- sim\n",
        "- nao\n",
        "\n",
        "Telegram bot: https://t.me/ufms_lab_pizzaria_chat_bot / @ufms_lab_pizzaria_chat_bot\n",
        "\n",
        "Source code: https://github.com/ufms-lab/bert-chat-bot-telegram\n"
      ]
    },
    {
      "cell_type": "markdown",
      "metadata": {
        "id": "hi3I9N1TjoH8"
      },
      "source": [
        "## Configuration"
      ]
    },
    {
      "cell_type": "markdown",
      "metadata": {
        "id": "PhKZFws_joH8"
      },
      "source": [
        "### Libraries"
      ]
    },
    {
      "cell_type": "code",
      "execution_count": null,
      "metadata": {
        "id": "yPaRN4tsjoH8"
      },
      "outputs": [],
      "source": [
        "import torch\n",
        "import torch.nn as nn\n",
        "import matplotlib.pyplot as plt\n",
        "from transformers import AutoTokenizer\n",
        "from transformers import AutoModelForMaskedLM\n",
        "from transformers import AutoModelForCausalLM\n",
        "from typing import Optional, Tuple\n",
        "import pandas as pd\n",
        "import numpy as np\n",
        "import sklearn.model_selection as model_selection\n",
        "from sklearn import preprocessing\n",
        "from sklearn import metrics\n",
        "\n",
        "from torch.utils.data import DataLoader\n",
        "from torch.optim import AdamW"
      ]
    },
    {
      "cell_type": "markdown",
      "metadata": {
        "id": "VJowfqNpjoH9"
      },
      "source": [
        "### Variables"
      ]
    },
    {
      "cell_type": "code",
      "execution_count": null,
      "metadata": {
        "id": "nrHiFEU4joH9"
      },
      "outputs": [],
      "source": [
        "device = torch.device('cuda:0') if torch.cuda.is_available() else torch.device('cpu')\n",
        "patience_time = 5\n",
        "loss_fct = nn.CrossEntropyLoss()\n",
        "\n",
        "sheet_id = '1XNFDohlIBX8IRRcrVdha-_aLv27lzixZqmMFHaIkGpc'\n",
        "sheet_name = 'general'\n",
        "url = f\"https://docs.google.com/spreadsheets/d/{sheet_id}/gviz/tq?tqx=out:csv&sheet={sheet_name}\""
      ]
    },
    {
      "cell_type": "markdown",
      "metadata": {
        "id": "x-jZuvJqjoH9"
      },
      "source": [
        "### Functions"
      ]
    },
    {
      "cell_type": "code",
      "execution_count": null,
      "metadata": {
        "id": "CqxQaOjUjoH9"
      },
      "outputs": [],
      "source": [
        "def plotLoss(model):\n",
        "    plt.figure()\n",
        "    plt.plot(model['loss_train'][1:])\n",
        "    plt.plot(model['loss_eval'][1:])\n",
        "    plt.ylabel('Loss')\n",
        "    plt.xlabel('Epochs')\n",
        "    plt.legend(['Loss Train', 'Loss Eval'])\n",
        "    plt.show()"
      ]
    },
    {
      "cell_type": "code",
      "execution_count": null,
      "metadata": {
        "id": "AmVNKzaxjoH9"
      },
      "outputs": [],
      "source": [
        "def recoverTrainedModel(model):\n",
        "    return torch.load(f'model_{model.name}.loss')"
      ]
    },
    {
      "cell_type": "code",
      "execution_count": null,
      "metadata": {
        "id": "2sQ6QbOnjoH9"
      },
      "outputs": [],
      "source": [
        "def modelMetrics(model, dl_test):\n",
        "    model.eval()\n",
        "    ytrue = []\n",
        "    ypred = []\n",
        "    for batch,y in dl_test:\n",
        "        batch = {k: v.to(device) for k, v in batch.items()}\n",
        "        with torch.no_grad():\n",
        "            outputs = model(**batch)\n",
        "        predictions = torch.argmax(outputs, dim=-1)\n",
        "        ytrue += y.tolist()\n",
        "        ypred += predictions.cpu().tolist()\n",
        "    return ytrue, ypred\n",
        "    "
      ]
    },
    {
      "cell_type": "code",
      "execution_count": null,
      "metadata": {
        "id": "ByH03d9kjoH-"
      },
      "outputs": [],
      "source": [
        "def trainModel(model, optimizer, dl_train, dl_eval):\n",
        "    stop = False\n",
        "    epoch = 0\n",
        "    lowest_loss_eval = 10000\n",
        "    last_best_result = 0\n",
        "    loss_train = []\n",
        "    loss_eval  = []\n",
        "    while (not stop):\n",
        "        model.train()\n",
        "        lepochs = []\n",
        "        for batch,y in dl_train:\n",
        "            batch = {k: v.to(device) for k, v in batch.items()}\n",
        "            y     = y.to(device)\n",
        "            outputs = model(**batch)\n",
        "            loss = loss_fct(outputs,y.type(torch.LongTensor).to(device))\n",
        "            loss.backward()\n",
        "            optimizer.step()\n",
        "            optimizer.zero_grad()\n",
        "            lepochs.append(loss.cpu().item())\n",
        "        loss_train.append(np.mean(lepochs))\n",
        "        model.eval()\n",
        "        ytrue = []\n",
        "        ypred = []\n",
        "        for batch,y in dl_eval:\n",
        "            batch = {k: v.to(device) for k, v in batch.items()}\n",
        "            with torch.no_grad():\n",
        "                outputs = model(**batch)\n",
        "                loss = loss_fct(outputs,y.type(torch.LongTensor).to(device))\n",
        "                lepochs.append(loss.cpu().item())\n",
        "            predictions = torch.argmax(outputs, dim=-1)\n",
        "            ytrue += y.tolist()\n",
        "            ypred += predictions.cpu().tolist()\n",
        "        avg_loss_eval = np.mean(lepochs)\n",
        "        loss_eval.append(avg_loss_eval)\n",
        "        if avg_loss_eval < lowest_loss_eval:\n",
        "            lowest_loss_eval = avg_loss_eval \n",
        "            last_best_result = 0\n",
        "            print(\"Best model found!\")\n",
        "            actual_state = {\n",
        "                'weights': model.state_dict(),\n",
        "                'epoch': epoch,\n",
        "                'loss_train': loss_train,\n",
        "                'loss_eval': loss_eval\n",
        "            }\n",
        "            torch.save(actual_state,f'model_{model.name}.loss')\n",
        "        last_best_result += 1\n",
        "        if last_best_result > patience_time:\n",
        "            stop = True\n",
        "        print(\"epoch %d loss_train %4.3f loss_eval %4.3f last_best %d\"%(epoch,loss_train[-1],loss_eval[-1],last_best_result))\n",
        "        epoch += 1"
      ]
    },
    {
      "cell_type": "markdown",
      "metadata": {
        "id": "NKKE9fcTjoH-"
      },
      "source": [
        "### Dados para treinamento - Google sheets público"
      ]
    },
    {
      "cell_type": "code",
      "execution_count": null,
      "metadata": {
        "id": "MLWoO_fGjoIC"
      },
      "outputs": [],
      "source": [
        "df = pd.read_csv(url, delimiter=',')\n",
        "rows = [list(row) for row in df.values]\n",
        "rows.insert(0, df.columns.to_list())\n",
        "df=pd.DataFrame(rows[1:],columns=rows[0])"
      ]
    },
    {
      "cell_type": "code",
      "execution_count": null,
      "metadata": {
        "colab": {
          "base_uri": "https://localhost:8080/"
        },
        "id": "ifTLZBcKjoIC",
        "outputId": "cbf39c69-ef58-4fcb-d0a5-332a3e63797e"
      },
      "outputs": [
        {
          "output_type": "execute_result",
          "data": {
            "text/plain": [
              "['apresentacao',\n",
              " 'cardapio',\n",
              " 'tempo_entrega',\n",
              " 'horario_funcionamento',\n",
              " 'fazer_pedido',\n",
              " 'confirmar_pedido',\n",
              " 'cancelar_pedido',\n",
              " 'sim',\n",
              " 'nao']"
            ]
          },
          "metadata": {},
          "execution_count": 83
        }
      ],
      "source": [
        "rows[0]"
      ]
    },
    {
      "cell_type": "code",
      "execution_count": null,
      "metadata": {
        "id": "5ZWsTAyijoID"
      },
      "outputs": [],
      "source": [
        "intentions = rows[0]\n",
        "xtrain_global = []\n",
        "ytrain_global = []\n",
        "for intension in intentions:\n",
        "    lintension = df[intension].values.tolist()\n",
        "    xtrain_global += lintension\n",
        "    ytrain_global += [intension]*len(lintension)"
      ]
    },
    {
      "cell_type": "markdown",
      "metadata": {
        "id": "dVMmuzoijoID"
      },
      "source": [
        "### Definindo os conjuntos de TREINO, VALIDAÇÃO e TESTES"
      ]
    },
    {
      "cell_type": "code",
      "execution_count": null,
      "metadata": {
        "id": "5QACCL_ujoID"
      },
      "outputs": [],
      "source": [
        "xtemp, xtest, ytemp, ytest = model_selection.train_test_split(xtrain_global, ytrain_global, test_size=0.2, random_state=42, shuffle=True)\n",
        "xtrain, xval, ytrain, yval = model_selection.train_test_split(xtemp, ytemp, test_size=0.4, random_state=42, shuffle=True)"
      ]
    },
    {
      "cell_type": "markdown",
      "metadata": {
        "id": "7iXt97vujoID"
      },
      "source": [
        "### Dataset"
      ]
    },
    {
      "cell_type": "code",
      "execution_count": null,
      "metadata": {
        "id": "7lwCUhUZjoID"
      },
      "outputs": [],
      "source": [
        "class GenericDataset(torch.utils.data.Dataset):\n",
        "    def __init__(self, encodings, labels):\n",
        "        self.encodings = encodings\n",
        "        self.labels = labels\n",
        "\n",
        "    def __getitem__(self, idx):\n",
        "        item = {key: torch.tensor(val[idx]) for key, val in self.encodings.items()}\n",
        "        label = torch.tensor(self.labels[idx])\n",
        "        return (item,label)\n",
        "\n",
        "    def __len__(self):\n",
        "        return len(self.labels)"
      ]
    },
    {
      "cell_type": "markdown",
      "metadata": {
        "id": "SUAAHA9rjoID"
      },
      "source": [
        "### Preprocessing"
      ]
    },
    {
      "cell_type": "code",
      "execution_count": null,
      "metadata": {
        "colab": {
          "base_uri": "https://localhost:8080/"
        },
        "id": "Ws-ilnJVjoID",
        "outputId": "3e51c3cb-242c-4972-e1c3-38cb84c61a39"
      },
      "outputs": [
        {
          "output_type": "execute_result",
          "data": {
            "text/plain": [
              "LabelEncoder()"
            ]
          },
          "metadata": {},
          "execution_count": 87
        }
      ],
      "source": [
        "le = preprocessing.LabelEncoder()\n",
        "le.fit(ytrain)"
      ]
    },
    {
      "cell_type": "markdown",
      "metadata": {
        "id": "3uUwE2LejoID"
      },
      "source": [
        "### Model"
      ]
    },
    {
      "cell_type": "code",
      "execution_count": null,
      "metadata": {
        "id": "pKCYVKcTjoIE"
      },
      "outputs": [],
      "source": [
        "class GenericClassifier(nn.Module):\n",
        "  def __init__(self,model,name,labels):\n",
        "    super(GenericClassifier,self).__init__()\n",
        "    self.name = name\n",
        "    self.base_model = model.base_model\n",
        "    self.config = model.config\n",
        "    self.labels = labels\n",
        "    self.cls = nn.Linear(self.config.hidden_size, len(labels))\n",
        "\n",
        "  def forward(\n",
        "    self,\n",
        "    input_ids: Optional[torch.Tensor] = None,\n",
        "    attention_mask: Optional[torch.Tensor] = None,\n",
        "    token_type_ids: Optional[torch.Tensor] = None,\n",
        "    ) ->Tuple[torch.Tensor]:\n",
        "\n",
        "    outputs = self.base_model(\n",
        "      input_ids,\n",
        "      attention_mask=attention_mask,\n",
        "      #token_type_ids=token_type_ids,\n",
        "    )\n",
        "    sequence_output = outputs[0][:,0,:]\n",
        "    prediction = self.cls(sequence_output)\n",
        "    return prediction"
      ]
    },
    {
      "cell_type": "markdown",
      "metadata": {
        "id": "N9_wkNd-joIE"
      },
      "source": [
        "## Model - neuralmind/bert-base-portuguese-cased"
      ]
    },
    {
      "cell_type": "markdown",
      "metadata": {
        "id": "oWyhKLJbjoIE"
      },
      "source": [
        "### Configuration"
      ]
    },
    {
      "cell_type": "code",
      "execution_count": null,
      "metadata": {
        "colab": {
          "base_uri": "https://localhost:8080/"
        },
        "id": "xyqQr8r-joIE",
        "outputId": "5a1bc61c-cac2-44c0-c344-5067811aff31"
      },
      "outputs": [
        {
          "output_type": "stream",
          "name": "stderr",
          "text": [
            "Some weights of the model checkpoint at neuralmind/bert-base-portuguese-cased were not used when initializing BertForMaskedLM: ['cls.seq_relationship.weight', 'cls.seq_relationship.bias']\n",
            "- This IS expected if you are initializing BertForMaskedLM from the checkpoint of a model trained on another task or with another architecture (e.g. initializing a BertForSequenceClassification model from a BertForPreTraining model).\n",
            "- This IS NOT expected if you are initializing BertForMaskedLM from the checkpoint of a model that you expect to be exactly identical (initializing a BertForSequenceClassification model from a BertForSequenceClassification model).\n",
            "Asking to truncate to max_length but no maximum length is provided and the model has no predefined maximum length. Default to no truncation.\n"
          ]
        }
      ],
      "source": [
        "model_pretrained = AutoModelForMaskedLM.from_pretrained('neuralmind/bert-base-portuguese-cased')\n",
        "tokenizer = AutoTokenizer.from_pretrained('neuralmind/bert-base-portuguese-cased', do_lower_case=False)\n",
        "\n",
        "train_encodings = tokenizer(xtrain, truncation=True, padding=True, return_tensors='pt')\n",
        "val_encodings = tokenizer(xval, truncation=True, padding=True, return_tensors='pt')\n",
        "test_encodings = tokenizer(xtest, truncation=True, padding=True, return_tensors='pt')\n",
        "\n",
        "ds_train = GenericDataset(train_encodings,le.transform(ytrain))\n",
        "ds_val   = GenericDataset(val_encodings,le.transform(yval))\n",
        "ds_test   = GenericDataset(test_encodings,le.transform(ytest))\n",
        "\n",
        "dl_train = DataLoader(ds_train,shuffle=True,batch_size=8)\n",
        "dl_eval  = DataLoader(ds_val,batch_size=8)\n",
        "dl_test  = DataLoader(ds_test,batch_size=8)\n",
        "\n",
        "model = GenericClassifier(model=model_pretrained,name=\"bert\",labels=intentions).to(device)\n",
        "\n",
        "optimizer = AdamW(model.parameters(), lr=5e-5, betas=(0.9, 0.999), eps=1e-8, weight_decay=1e-2)"
      ]
    },
    {
      "cell_type": "markdown",
      "metadata": {
        "id": "VJclpJlxjoIE"
      },
      "source": [
        "### Train"
      ]
    },
    {
      "cell_type": "code",
      "execution_count": null,
      "metadata": {
        "colab": {
          "base_uri": "https://localhost:8080/"
        },
        "id": "ldeiBU_9joIE",
        "outputId": "195e8387-ffe7-4956-df1e-22fe5c60cd71"
      },
      "outputs": [
        {
          "output_type": "stream",
          "name": "stderr",
          "text": [
            "<ipython-input-86-4125cd2d00c9>:7: UserWarning: To copy construct from a tensor, it is recommended to use sourceTensor.clone().detach() or sourceTensor.clone().detach().requires_grad_(True), rather than torch.tensor(sourceTensor).\n",
            "  item = {key: torch.tensor(val[idx]) for key, val in self.encodings.items()}\n"
          ]
        },
        {
          "output_type": "stream",
          "name": "stdout",
          "text": [
            "Best model found!\n",
            "epoch 0 loss_train 1.333 loss_eval 1.067 last_best 1\n",
            "Best model found!\n",
            "epoch 1 loss_train 0.424 loss_eval 0.423 last_best 1\n",
            "Best model found!\n",
            "epoch 2 loss_train 0.170 loss_eval 0.233 last_best 1\n",
            "Best model found!\n",
            "epoch 3 loss_train 0.060 loss_eval 0.202 last_best 1\n",
            "Best model found!\n",
            "epoch 4 loss_train 0.064 loss_eval 0.189 last_best 1\n",
            "Best model found!\n",
            "epoch 5 loss_train 0.025 loss_eval 0.185 last_best 1\n",
            "epoch 6 loss_train 0.035 loss_eval 0.218 last_best 2\n",
            "epoch 7 loss_train 0.077 loss_eval 0.231 last_best 3\n",
            "epoch 8 loss_train 0.049 loss_eval 0.248 last_best 4\n",
            "epoch 9 loss_train 0.088 loss_eval 0.237 last_best 5\n",
            "epoch 10 loss_train 0.030 loss_eval 0.208 last_best 6\n"
          ]
        }
      ],
      "source": [
        "trainModel(model, optimizer, dl_train, dl_eval)"
      ]
    },
    {
      "cell_type": "markdown",
      "metadata": {
        "id": "EOoY4bq9joIE"
      },
      "source": [
        "### Recover (from disk) / Metrics"
      ]
    },
    {
      "cell_type": "code",
      "execution_count": null,
      "metadata": {
        "colab": {
          "base_uri": "https://localhost:8080/"
        },
        "id": "NfdA3UqOjoIE",
        "outputId": "94478c97-1bf5-4316-dcdf-5fbe4e74a4fa"
      },
      "outputs": [
        {
          "output_type": "stream",
          "name": "stderr",
          "text": [
            "<ipython-input-86-4125cd2d00c9>:7: UserWarning: To copy construct from a tensor, it is recommended to use sourceTensor.clone().detach() or sourceTensor.clone().detach().requires_grad_(True), rather than torch.tensor(sourceTensor).\n",
            "  item = {key: torch.tensor(val[idx]) for key, val in self.encodings.items()}\n"
          ]
        }
      ],
      "source": [
        "recover = recoverTrainedModel(model)\n",
        "ytrue, lres = modelMetrics(model, dl_test)"
      ]
    },
    {
      "cell_type": "markdown",
      "metadata": {
        "id": "7iLcizCNjoIE"
      },
      "source": [
        "### LOSS Train / Eval"
      ]
    },
    {
      "cell_type": "code",
      "execution_count": null,
      "metadata": {
        "colab": {
          "base_uri": "https://localhost:8080/",
          "height": 279
        },
        "id": "PQT55DqTjoIE",
        "outputId": "b5568d4d-8135-428a-9677-ea463aa9028d"
      },
      "outputs": [
        {
          "output_type": "display_data",
          "data": {
            "text/plain": [
              "<Figure size 432x288 with 1 Axes>"
            ],
            "image/png": "[encoded data removed]"
          },
          "metadata": {
            "needs_background": "light"
          }
        }
      ],
      "source": [
        "plotLoss(recover)"
      ]
    },
    {
      "cell_type": "markdown",
      "metadata": {
        "id": "XjuD1glFjoIE"
      },
      "source": [
        "### Confusion Matrix"
      ]
    },
    {
      "cell_type": "code",
      "execution_count": null,
      "metadata": {
        "colab": {
          "base_uri": "https://localhost:8080/"
        },
        "id": "OaNFQLWkjoIE",
        "outputId": "deb568fe-c632-4a14-c60b-fe479b755487"
      },
      "outputs": [
        {
          "output_type": "stream",
          "name": "stdout",
          "text": [
            "[[23  0  0  0  0  1  0  1  0]\n",
            " [ 0 15  0  0  0  0  0  0  1]\n",
            " [ 0  0 13  0  0  0  0  0  0]\n",
            " [ 1  0  0 17  0  0  2  3  0]\n",
            " [ 0  0  0  0 22  0  0  0  0]\n",
            " [ 0  0  0  0  0 22  0  0  0]\n",
            " [ 0  0  0  0  0  0 17  2  0]\n",
            " [ 2  0  0  0  0  0  1 15  0]\n",
            " [ 0  0  0  0  0  0  0  0 22]]\n"
          ]
        }
      ],
      "source": [
        "print(metrics.confusion_matrix(ytrue, lres))"
      ]
    },
    {
      "cell_type": "markdown",
      "metadata": {
        "id": "xa-iPS03joIF"
      },
      "source": [
        "### Classification"
      ]
    },
    {
      "cell_type": "code",
      "execution_count": null,
      "metadata": {
        "colab": {
          "base_uri": "https://localhost:8080/"
        },
        "id": "gRsJOQpfjoIF",
        "outputId": "0a8ecdd3-4d61-4b5f-cd7d-7ae7abcd6341"
      },
      "outputs": [
        {
          "output_type": "stream",
          "name": "stdout",
          "text": [
            "                       precision    recall  f1-score   support\n",
            "\n",
            "         apresentacao       0.88      0.92      0.90        25\n",
            "             cardapio       1.00      0.94      0.97        16\n",
            "        tempo_entrega       1.00      1.00      1.00        13\n",
            "horario_funcionamento       1.00      0.74      0.85        23\n",
            "         fazer_pedido       1.00      1.00      1.00        22\n",
            "     confirmar_pedido       0.96      1.00      0.98        22\n",
            "      cancelar_pedido       0.85      0.89      0.87        19\n",
            "                  sim       0.71      0.83      0.77        18\n",
            "                  nao       0.96      1.00      0.98        22\n",
            "\n",
            "             accuracy                           0.92       180\n",
            "            macro avg       0.93      0.92      0.92       180\n",
            "         weighted avg       0.93      0.92      0.92       180\n",
            "\n"
          ]
        }
      ],
      "source": [
        "print(metrics.classification_report(ytrue, lres, target_names=intentions))"
      ]
    },
    {
      "cell_type": "markdown",
      "metadata": {
        "id": "H8eF3tvwjoIF"
      },
      "source": [
        "### Simple test"
      ]
    },
    {
      "cell_type": "code",
      "execution_count": null,
      "metadata": {
        "colab": {
          "base_uri": "https://localhost:8080/",
          "height": 35
        },
        "id": "Lpm2CHDCjoIF",
        "outputId": "b49ef87c-a60e-40fe-9c4e-1e5c85a3edbb"
      },
      "outputs": [
        {
          "output_type": "execute_result",
          "data": {
            "text/plain": [
              "'cardapio'"
            ],
            "application/vnd.google.colaboratory.intrinsic+json": {
              "type": "string"
            }
          },
          "metadata": {},
          "execution_count": 95
        }
      ],
      "source": [
        "token=tokenizer(\"voce tem uma lista com os sabores das pizzas?\", return_tensors='pt').to(device)\n",
        "pred=model(**token)\n",
        "le.inverse_transform(pred.argmax(dim=-1).cpu())[0]"
      ]
    },
    {
      "cell_type": "markdown",
      "metadata": {
        "id": "t9dbtM2GjoIF"
      },
      "source": [
        "## Model - distilbert-base-multilingual-cased"
      ]
    },
    {
      "cell_type": "markdown",
      "metadata": {
        "id": "NKzK7x-RjoIF"
      },
      "source": [
        "### Configuration"
      ]
    },
    {
      "cell_type": "code",
      "execution_count": null,
      "metadata": {
        "id": "D-agQYaDjoIF"
      },
      "outputs": [],
      "source": [
        "model_pretrained = AutoModelForMaskedLM.from_pretrained('distilbert-base-multilingual-cased')\n",
        "tokenizer = AutoTokenizer.from_pretrained('distilbert-base-multilingual-cased', do_lower_case=False)\n",
        "\n",
        "train_encodings = tokenizer(xtrain, truncation=True, padding=True, return_tensors='pt')\n",
        "val_encodings = tokenizer(xval, truncation=True, padding=True, return_tensors='pt')\n",
        "test_encodings = tokenizer(xtest, truncation=True, padding=True, return_tensors='pt')\n",
        "\n",
        "ds_train = GenericDataset(train_encodings,le.transform(ytrain))\n",
        "ds_val   = GenericDataset(val_encodings,le.transform(yval))\n",
        "ds_test   = GenericDataset(test_encodings,le.transform(ytest))\n",
        "\n",
        "dl_train = DataLoader(ds_train,shuffle=True,batch_size=8)\n",
        "dl_eval  = DataLoader(ds_val,batch_size=8)\n",
        "dl_test  = DataLoader(ds_test,batch_size=8)\n",
        "\n",
        "model = GenericClassifier(model=model_pretrained,name=\"distilbert\",labels=intentions).to(device)\n",
        "\n",
        "optimizer = AdamW(model.parameters(), lr=5e-5, betas=(0.9, 0.999), eps=1e-8, weight_decay=1e-2)"
      ]
    },
    {
      "cell_type": "markdown",
      "metadata": {
        "id": "wjMq1OcujoIF"
      },
      "source": [
        "### Train"
      ]
    },
    {
      "cell_type": "code",
      "execution_count": null,
      "metadata": {
        "colab": {
          "base_uri": "https://localhost:8080/"
        },
        "id": "5uZZoUA9joIF",
        "outputId": "325bc5e3-7276-4e64-8c55-29413e368ff8"
      },
      "outputs": [
        {
          "output_type": "stream",
          "name": "stderr",
          "text": [
            "<ipython-input-86-4125cd2d00c9>:7: UserWarning: To copy construct from a tensor, it is recommended to use sourceTensor.clone().detach() or sourceTensor.clone().detach().requires_grad_(True), rather than torch.tensor(sourceTensor).\n",
            "  item = {key: torch.tensor(val[idx]) for key, val in self.encodings.items()}\n"
          ]
        },
        {
          "output_type": "stream",
          "name": "stdout",
          "text": [
            "Best model found!\n",
            "epoch 0 loss_train 1.669 loss_eval 1.334 last_best 1\n",
            "Best model found!\n",
            "epoch 1 loss_train 0.521 loss_eval 0.521 last_best 1\n",
            "Best model found!\n",
            "epoch 2 loss_train 0.171 loss_eval 0.282 last_best 1\n",
            "Best model found!\n",
            "epoch 3 loss_train 0.074 loss_eval 0.226 last_best 1\n",
            "Best model found!\n",
            "epoch 4 loss_train 0.069 loss_eval 0.223 last_best 1\n",
            "Best model found!\n",
            "epoch 5 loss_train 0.040 loss_eval 0.216 last_best 1\n",
            "epoch 6 loss_train 0.022 loss_eval 0.223 last_best 2\n",
            "Best model found!\n",
            "epoch 7 loss_train 0.030 loss_eval 0.213 last_best 1\n",
            "epoch 8 loss_train 0.035 loss_eval 0.217 last_best 2\n",
            "epoch 9 loss_train 0.029 loss_eval 0.236 last_best 3\n",
            "Best model found!\n",
            "epoch 10 loss_train 0.011 loss_eval 0.186 last_best 1\n",
            "epoch 11 loss_train 0.028 loss_eval 0.244 last_best 2\n",
            "epoch 12 loss_train 0.017 loss_eval 0.210 last_best 3\n",
            "epoch 13 loss_train 0.008 loss_eval 0.200 last_best 4\n",
            "epoch 14 loss_train 0.008 loss_eval 0.197 last_best 5\n",
            "epoch 15 loss_train 0.006 loss_eval 0.200 last_best 6\n"
          ]
        }
      ],
      "source": [
        "trainModel(model, optimizer, dl_train, dl_eval)"
      ]
    },
    {
      "cell_type": "markdown",
      "metadata": {
        "id": "fUzpuEV4joIF"
      },
      "source": [
        "### Recover (from disk) / Metrics"
      ]
    },
    {
      "cell_type": "code",
      "execution_count": null,
      "metadata": {
        "colab": {
          "base_uri": "https://localhost:8080/"
        },
        "id": "z89LJ_tTjoIF",
        "outputId": "b6387067-bdd0-48d8-f58d-19e2b7be910d"
      },
      "outputs": [
        {
          "output_type": "stream",
          "name": "stderr",
          "text": [
            "<ipython-input-86-4125cd2d00c9>:7: UserWarning: To copy construct from a tensor, it is recommended to use sourceTensor.clone().detach() or sourceTensor.clone().detach().requires_grad_(True), rather than torch.tensor(sourceTensor).\n",
            "  item = {key: torch.tensor(val[idx]) for key, val in self.encodings.items()}\n"
          ]
        }
      ],
      "source": [
        "recover = recoverTrainedModel(model)\n",
        "ytrue, lres = modelMetrics(model, dl_test)"
      ]
    },
    {
      "cell_type": "markdown",
      "metadata": {
        "id": "vK4UXMg-joIF"
      },
      "source": [
        "### LOSS Train / Eval"
      ]
    },
    {
      "cell_type": "code",
      "execution_count": null,
      "metadata": {
        "colab": {
          "base_uri": "https://localhost:8080/",
          "height": 279
        },
        "id": "l-nEDzl3joIF",
        "outputId": "1d331bd0-d118-4d4c-d653-171e9e851964"
      },
      "outputs": [
        {
          "output_type": "display_data",
          "data": {
            "text/plain": [
              "<Figure size 432x288 with 1 Axes>"
            ],
            "image/png": "[encoded data removed]"
          },
          "metadata": {
            "needs_background": "light"
          }
        }
      ],
      "source": [
        "plotLoss(recover)"
      ]
    },
    {
      "cell_type": "markdown",
      "metadata": {
        "id": "bjXvesFSjoIG"
      },
      "source": [
        "### Confusion Matrix"
      ]
    },
    {
      "cell_type": "code",
      "execution_count": null,
      "metadata": {
        "colab": {
          "base_uri": "https://localhost:8080/"
        },
        "id": "U1qbnMTyjoIG",
        "outputId": "071b449f-0418-4b71-c990-83e1d34106bb"
      },
      "outputs": [
        {
          "output_type": "stream",
          "name": "stdout",
          "text": [
            "[[16  0  0  0  0  3  1  5  0]\n",
            " [ 0 14  0  0  0  1  0  1  0]\n",
            " [ 0  0 13  0  0  0  0  0  0]\n",
            " [ 1  0  0 16  1  0  1  3  1]\n",
            " [ 0  0  0  1 21  0  0  0  0]\n",
            " [ 0  0  0  0  0 22  0  0  0]\n",
            " [ 0  0  0  0  0  0 18  1  0]\n",
            " [ 6  0  0  0  0  0  0 12  0]\n",
            " [ 1  0  0  0  0  0  0  0 21]]\n"
          ]
        }
      ],
      "source": [
        "print(metrics.confusion_matrix(ytrue, lres))"
      ]
    },
    {
      "cell_type": "markdown",
      "metadata": {
        "id": "Dd9OraNXjoIG"
      },
      "source": [
        "### Classification"
      ]
    },
    {
      "cell_type": "code",
      "execution_count": null,
      "metadata": {
        "colab": {
          "base_uri": "https://localhost:8080/"
        },
        "id": "bJDtBD_UjoIG",
        "outputId": "89f33ca6-bc55-4cfe-cfc5-4caf643d6f50"
      },
      "outputs": [
        {
          "output_type": "stream",
          "name": "stdout",
          "text": [
            "                       precision    recall  f1-score   support\n",
            "\n",
            "         apresentacao       0.67      0.64      0.65        25\n",
            "             cardapio       1.00      0.88      0.93        16\n",
            "        tempo_entrega       1.00      1.00      1.00        13\n",
            "horario_funcionamento       0.94      0.70      0.80        23\n",
            "         fazer_pedido       0.95      0.95      0.95        22\n",
            "     confirmar_pedido       0.85      1.00      0.92        22\n",
            "      cancelar_pedido       0.90      0.95      0.92        19\n",
            "                  sim       0.55      0.67      0.60        18\n",
            "                  nao       0.95      0.95      0.95        22\n",
            "\n",
            "             accuracy                           0.85       180\n",
            "            macro avg       0.87      0.86      0.86       180\n",
            "         weighted avg       0.86      0.85      0.85       180\n",
            "\n"
          ]
        }
      ],
      "source": [
        "print(metrics.classification_report(ytrue, lres, target_names=intentions))"
      ]
    },
    {
      "cell_type": "markdown",
      "metadata": {
        "id": "72W8akVFjoIG"
      },
      "source": [
        "### Simple test"
      ]
    },
    {
      "cell_type": "code",
      "execution_count": null,
      "metadata": {
        "colab": {
          "base_uri": "https://localhost:8080/",
          "height": 35
        },
        "id": "ETXtEiJfjoIG",
        "outputId": "0e9d28e3-1df3-4f27-c17c-f8b5b4995e53"
      },
      "outputs": [
        {
          "output_type": "execute_result",
          "data": {
            "text/plain": [
              "'cardapio'"
            ],
            "application/vnd.google.colaboratory.intrinsic+json": {
              "type": "string"
            }
          },
          "metadata": {},
          "execution_count": 102
        }
      ],
      "source": [
        "token=tokenizer(\"voce tem uma lista com os sabores das pizzas?\", return_tensors='pt').to(device)\n",
        "pred=model(**token)\n",
        "le.inverse_transform(pred.argmax(dim=-1).cpu())[0]"
      ]
    },
    {
      "cell_type": "markdown",
      "metadata": {
        "id": "123q4eH2joIG"
      },
      "source": [
        "## Model - Twitter/twhin-bert-large"
      ]
    },
    {
      "cell_type": "markdown",
      "metadata": {
        "id": "i0ZyVdVMjoIG"
      },
      "source": [
        "### Configuration"
      ]
    },
    {
      "cell_type": "code",
      "execution_count": null,
      "metadata": {
        "colab": {
          "base_uri": "https://localhost:8080/"
        },
        "id": "jLJIr8YwjoIG",
        "outputId": "b266dc92-b1ef-446a-ede0-0c092040e99d"
      },
      "outputs": [
        {
          "output_type": "stream",
          "name": "stderr",
          "text": [
            "Asking to truncate to max_length but no maximum length is provided and the model has no predefined maximum length. Default to no truncation.\n"
          ]
        }
      ],
      "source": [
        "model_pretrained = AutoModelForMaskedLM.from_pretrained('Twitter/twhin-bert-base')\n",
        "tokenizer = AutoTokenizer.from_pretrained('Twitter/twhin-bert-base')\n",
        "\n",
        "train_encodings = tokenizer(xtrain, truncation=True, padding=True, return_tensors='pt')\n",
        "val_encodings = tokenizer(xval, truncation=True, padding=True, return_tensors='pt')\n",
        "test_encodings = tokenizer(xtest, truncation=True, padding=True, return_tensors='pt')\n",
        "\n",
        "ds_train = GenericDataset(train_encodings,le.transform(ytrain))\n",
        "ds_val   = GenericDataset(val_encodings,le.transform(yval))\n",
        "ds_test   = GenericDataset(test_encodings,le.transform(ytest))\n",
        "\n",
        "dl_train = DataLoader(ds_train,shuffle=True,batch_size=8)\n",
        "dl_eval  = DataLoader(ds_val,batch_size=8)\n",
        "dl_test  = DataLoader(ds_test,batch_size=8)\n",
        "\n",
        "model = GenericClassifier(model=model_pretrained,name=\"twhin\",labels=intentions).to(device)\n",
        "\n",
        "optimizer = AdamW(model.parameters(), lr=5e-5, betas=(0.9, 0.999), eps=1e-8, weight_decay=1e-2)"
      ]
    },
    {
      "cell_type": "markdown",
      "metadata": {
        "id": "lP9CkykmjoIG"
      },
      "source": [
        "### Train"
      ]
    },
    {
      "cell_type": "code",
      "execution_count": null,
      "metadata": {
        "colab": {
          "base_uri": "https://localhost:8080/"
        },
        "id": "X__2E7mfjoIG",
        "outputId": "6bc90ce3-9880-4a97-c386-66baecea7691"
      },
      "outputs": [
        {
          "output_type": "stream",
          "name": "stderr",
          "text": [
            "<ipython-input-86-4125cd2d00c9>:7: UserWarning: To copy construct from a tensor, it is recommended to use sourceTensor.clone().detach() or sourceTensor.clone().detach().requires_grad_(True), rather than torch.tensor(sourceTensor).\n",
            "  item = {key: torch.tensor(val[idx]) for key, val in self.encodings.items()}\n"
          ]
        },
        {
          "output_type": "stream",
          "name": "stdout",
          "text": [
            "Best model found!\n",
            "epoch 0 loss_train 1.775 loss_eval 1.466 last_best 1\n",
            "Best model found!\n",
            "epoch 1 loss_train 0.736 loss_eval 0.639 last_best 1\n",
            "Best model found!\n",
            "epoch 2 loss_train 0.285 loss_eval 0.363 last_best 1\n",
            "Best model found!\n",
            "epoch 3 loss_train 0.173 loss_eval 0.295 last_best 1\n",
            "Best model found!\n",
            "epoch 4 loss_train 0.110 loss_eval 0.250 last_best 1\n",
            "epoch 5 loss_train 0.105 loss_eval 0.285 last_best 2\n",
            "epoch 6 loss_train 0.112 loss_eval 0.266 last_best 3\n",
            "Best model found!\n",
            "epoch 7 loss_train 0.032 loss_eval 0.232 last_best 1\n",
            "epoch 8 loss_train 0.047 loss_eval 0.243 last_best 2\n",
            "Best model found!\n",
            "epoch 9 loss_train 0.017 loss_eval 0.210 last_best 1\n",
            "epoch 10 loss_train 0.015 loss_eval 0.219 last_best 2\n",
            "epoch 11 loss_train 0.017 loss_eval 0.329 last_best 3\n",
            "Best model found!\n",
            "epoch 12 loss_train 0.045 loss_eval 0.205 last_best 1\n",
            "epoch 13 loss_train 0.106 loss_eval 0.263 last_best 2\n",
            "epoch 14 loss_train 0.072 loss_eval 0.236 last_best 3\n",
            "epoch 15 loss_train 0.031 loss_eval 0.229 last_best 4\n",
            "epoch 16 loss_train 0.024 loss_eval 0.342 last_best 5\n",
            "epoch 17 loss_train 0.230 loss_eval 0.327 last_best 6\n"
          ]
        }
      ],
      "source": [
        "trainModel(model, optimizer, dl_train, dl_eval)"
      ]
    },
    {
      "cell_type": "markdown",
      "metadata": {
        "id": "5WViVaS5joIG"
      },
      "source": [
        "### Recover (from disk) / Metrics"
      ]
    },
    {
      "cell_type": "code",
      "execution_count": null,
      "metadata": {
        "colab": {
          "base_uri": "https://localhost:8080/"
        },
        "id": "EcmMoyFKjoIG",
        "outputId": "fd1ff7b6-9df3-45d7-e3f1-e3a89ea021a7"
      },
      "outputs": [
        {
          "output_type": "stream",
          "name": "stderr",
          "text": [
            "<ipython-input-86-4125cd2d00c9>:7: UserWarning: To copy construct from a tensor, it is recommended to use sourceTensor.clone().detach() or sourceTensor.clone().detach().requires_grad_(True), rather than torch.tensor(sourceTensor).\n",
            "  item = {key: torch.tensor(val[idx]) for key, val in self.encodings.items()}\n"
          ]
        }
      ],
      "source": [
        "recover = recoverTrainedModel(model)\n",
        "ytrue, lres = modelMetrics(model, dl_test)"
      ]
    },
    {
      "cell_type": "markdown",
      "metadata": {
        "id": "RXzdPyytjoIG"
      },
      "source": [
        "### LOSS Train / Eval"
      ]
    },
    {
      "cell_type": "code",
      "execution_count": null,
      "metadata": {
        "colab": {
          "base_uri": "https://localhost:8080/",
          "height": 279
        },
        "id": "TTQ0Q_QOjoIH",
        "outputId": "de33e002-046f-43e7-a8c4-2583eae082bf"
      },
      "outputs": [
        {
          "output_type": "display_data",
          "data": {
            "text/plain": [
              "<Figure size 432x288 with 1 Axes>"
            ],
            "image/png": "[encoded data removed]"
          },
          "metadata": {
            "needs_background": "light"
          }
        }
      ],
      "source": [
        "plotLoss(recover)"
      ]
    },
    {
      "cell_type": "markdown",
      "metadata": {
        "id": "nS2SSfhCjoIH"
      },
      "source": [
        "### Confusion Matrix"
      ]
    },
    {
      "cell_type": "code",
      "execution_count": null,
      "metadata": {
        "colab": {
          "base_uri": "https://localhost:8080/"
        },
        "id": "ZZw6ebQ7joIH",
        "outputId": "ac496e8e-172a-4dab-f0ac-f4e625c46424"
      },
      "outputs": [
        {
          "output_type": "stream",
          "name": "stdout",
          "text": [
            "[[22  0  1  0  1  0  0  1  0]\n",
            " [ 0 15  0  1  0  0  0  0  0]\n",
            " [ 0  0 13  0  0  0  0  0  0]\n",
            " [ 0  0  0 18  1  0  2  2  0]\n",
            " [ 0  0  0  1 21  0  0  0  0]\n",
            " [ 0  0  0  1  0 21  0  0  0]\n",
            " [ 2  0  0  0  0  0 16  1  0]\n",
            " [ 7  0  0  0  0  0  0 11  0]\n",
            " [ 0  0  0  1  0  0  0  1 20]]\n"
          ]
        }
      ],
      "source": [
        "print(metrics.confusion_matrix(ytrue, lres))"
      ]
    },
    {
      "cell_type": "markdown",
      "metadata": {
        "id": "WH5fZ03fjoIH"
      },
      "source": [
        "### Classification"
      ]
    },
    {
      "cell_type": "code",
      "execution_count": null,
      "metadata": {
        "colab": {
          "base_uri": "https://localhost:8080/"
        },
        "id": "l-t9e1dOjoIH",
        "outputId": "28a4be13-0453-43fb-d49d-f2da166327ba"
      },
      "outputs": [
        {
          "output_type": "stream",
          "name": "stdout",
          "text": [
            "                       precision    recall  f1-score   support\n",
            "\n",
            "         apresentacao       0.71      0.88      0.79        25\n",
            "             cardapio       1.00      0.94      0.97        16\n",
            "        tempo_entrega       0.93      1.00      0.96        13\n",
            "horario_funcionamento       0.82      0.78      0.80        23\n",
            "         fazer_pedido       0.91      0.95      0.93        22\n",
            "     confirmar_pedido       1.00      0.95      0.98        22\n",
            "      cancelar_pedido       0.89      0.84      0.86        19\n",
            "                  sim       0.69      0.61      0.65        18\n",
            "                  nao       1.00      0.91      0.95        22\n",
            "\n",
            "             accuracy                           0.87       180\n",
            "            macro avg       0.88      0.87      0.88       180\n",
            "         weighted avg       0.88      0.87      0.87       180\n",
            "\n"
          ]
        }
      ],
      "source": [
        "print(metrics.classification_report(ytrue, lres, target_names=intentions))"
      ]
    },
    {
      "cell_type": "markdown",
      "metadata": {
        "id": "OhMTDePcjoIH"
      },
      "source": [
        "### Simple test"
      ]
    },
    {
      "cell_type": "code",
      "execution_count": null,
      "metadata": {
        "colab": {
          "base_uri": "https://localhost:8080/",
          "height": 35
        },
        "id": "Lxz7EVNIjoIH",
        "outputId": "3556bb8d-da94-40e9-d359-bf7178bead27"
      },
      "outputs": [
        {
          "output_type": "execute_result",
          "data": {
            "text/plain": [
              "'cardapio'"
            ],
            "application/vnd.google.colaboratory.intrinsic+json": {
              "type": "string"
            }
          },
          "metadata": {},
          "execution_count": 110
        }
      ],
      "source": [
        "token=tokenizer(\"voce tem uma lista com os sabores das pizzas?\", return_tensors='pt').to(device)\n",
        "pred=model(**token)\n",
        "le.inverse_transform(pred.argmax(dim=-1).cpu())[0]"
      ]
    },
    {
      "cell_type": "markdown",
      "metadata": {
        "id": "g40Wza0Mm90U"
      },
      "source": [
        "## Model - pierreguillou/gpt2-small-portuguese"
      ]
    },
    {
      "cell_type": "markdown",
      "metadata": {
        "id": "hsPFWz-Lm90U"
      },
      "source": [
        "### Configuration"
      ]
    },
    {
      "cell_type": "code",
      "execution_count": null,
      "metadata": {
        "colab": {
          "base_uri": "https://localhost:8080/"
        },
        "id": "yuY8uLJ9m90U",
        "outputId": "8ae102a4-bd99-46f0-8568-30639ddb7fd7"
      },
      "outputs": [
        {
          "output_type": "stream",
          "name": "stderr",
          "text": [
            "Asking to truncate to max_length but no maximum length is provided and the model has no predefined maximum length. Default to no truncation.\n"
          ]
        }
      ],
      "source": [
        "model_pretrained = AutoModelForCausalLM.from_pretrained(\"pierreguillou/gpt2-small-portuguese\")\n",
        "tokenizer = AutoTokenizer.from_pretrained(\"pierreguillou/gpt2-small-portuguese\")\n",
        "\n",
        "train_encodings = tokenizer(xtrain, truncation=True, padding=True, return_tensors='pt')\n",
        "val_encodings = tokenizer(xval, truncation=True, padding=True, return_tensors='pt')\n",
        "test_encodings = tokenizer(xtest, truncation=True, padding=True, return_tensors='pt')\n",
        "\n",
        "ds_train = GenericDataset(train_encodings,le.transform(ytrain))\n",
        "ds_val   = GenericDataset(val_encodings,le.transform(yval))\n",
        "ds_test   = GenericDataset(test_encodings,le.transform(ytest))\n",
        "\n",
        "dl_train = DataLoader(ds_train,shuffle=True,batch_size=8)\n",
        "dl_eval  = DataLoader(ds_val,batch_size=8)\n",
        "dl_test  = DataLoader(ds_test,batch_size=8)\n",
        "\n",
        "model = GenericClassifier(model=model_pretrained,name=\"gpt2\",labels=intentions).to(device)\n",
        "\n",
        "optimizer = AdamW(model.parameters(), lr=5e-5, betas=(0.9, 0.999), eps=1e-8, weight_decay=1e-2)"
      ]
    },
    {
      "cell_type": "markdown",
      "metadata": {
        "id": "f-_TR_OSm90V"
      },
      "source": [
        "### Train"
      ]
    },
    {
      "cell_type": "code",
      "execution_count": null,
      "metadata": {
        "colab": {
          "base_uri": "https://localhost:8080/"
        },
        "id": "G0Clly2vm90V",
        "outputId": "89314e79-dce5-47b3-d2c9-957407b952f1"
      },
      "outputs": [
        {
          "output_type": "stream",
          "name": "stderr",
          "text": [
            "<ipython-input-86-4125cd2d00c9>:7: UserWarning: To copy construct from a tensor, it is recommended to use sourceTensor.clone().detach() or sourceTensor.clone().detach().requires_grad_(True), rather than torch.tensor(sourceTensor).\n",
            "  item = {key: torch.tensor(val[idx]) for key, val in self.encodings.items()}\n"
          ]
        },
        {
          "output_type": "stream",
          "name": "stdout",
          "text": [
            "Best model found!\n",
            "epoch 0 loss_train 2.242 loss_eval 2.229 last_best 1\n",
            "Best model found!\n",
            "epoch 1 loss_train 2.195 loss_eval 2.188 last_best 1\n",
            "Best model found!\n",
            "epoch 2 loss_train 2.141 loss_eval 2.111 last_best 1\n",
            "Best model found!\n",
            "epoch 3 loss_train 1.943 loss_eval 1.932 last_best 1\n",
            "Best model found!\n",
            "epoch 4 loss_train 1.667 loss_eval 1.692 last_best 1\n",
            "Best model found!\n",
            "epoch 5 loss_train 1.547 loss_eval 1.602 last_best 1\n",
            "Best model found!\n",
            "epoch 6 loss_train 1.383 loss_eval 1.471 last_best 1\n",
            "epoch 7 loss_train 1.385 loss_eval 1.587 last_best 2\n",
            "Best model found!\n",
            "epoch 8 loss_train 1.300 loss_eval 1.440 last_best 1\n",
            "Best model found!\n",
            "epoch 9 loss_train 1.100 loss_eval 1.296 last_best 1\n",
            "Best model found!\n",
            "epoch 10 loss_train 0.949 loss_eval 1.275 last_best 1\n",
            "Best model found!\n",
            "epoch 11 loss_train 0.931 loss_eval 1.262 last_best 1\n",
            "epoch 12 loss_train 0.912 loss_eval 1.266 last_best 2\n",
            "Best model found!\n",
            "epoch 13 loss_train 0.911 loss_eval 1.232 last_best 1\n",
            "Best model found!\n",
            "epoch 14 loss_train 0.909 loss_eval 1.205 last_best 1\n",
            "epoch 15 loss_train 0.875 loss_eval 1.222 last_best 2\n",
            "epoch 16 loss_train 0.895 loss_eval 1.300 last_best 3\n",
            "epoch 17 loss_train 0.839 loss_eval 1.263 last_best 4\n",
            "Best model found!\n",
            "epoch 18 loss_train 0.830 loss_eval 1.198 last_best 1\n",
            "epoch 19 loss_train 0.833 loss_eval 1.242 last_best 2\n",
            "Best model found!\n",
            "epoch 20 loss_train 0.815 loss_eval 1.194 last_best 1\n",
            "epoch 21 loss_train 0.812 loss_eval 1.200 last_best 2\n",
            "epoch 22 loss_train 0.802 loss_eval 1.208 last_best 3\n",
            "epoch 23 loss_train 0.797 loss_eval 1.275 last_best 4\n",
            "epoch 24 loss_train 0.787 loss_eval 1.239 last_best 5\n",
            "epoch 25 loss_train 0.797 loss_eval 1.215 last_best 6\n"
          ]
        }
      ],
      "source": [
        "trainModel(model, optimizer, dl_train, dl_eval)"
      ]
    },
    {
      "cell_type": "markdown",
      "metadata": {
        "id": "uKImbCxqm90V"
      },
      "source": [
        "### Recover (from disk) / Metrics"
      ]
    },
    {
      "cell_type": "code",
      "execution_count": null,
      "metadata": {
        "colab": {
          "base_uri": "https://localhost:8080/"
        },
        "id": "cup4IEJdm90V",
        "outputId": "e257878c-6457-4b7a-c656-c19ff1f9db31"
      },
      "outputs": [
        {
          "output_type": "stream",
          "name": "stderr",
          "text": [
            "<ipython-input-86-4125cd2d00c9>:7: UserWarning: To copy construct from a tensor, it is recommended to use sourceTensor.clone().detach() or sourceTensor.clone().detach().requires_grad_(True), rather than torch.tensor(sourceTensor).\n",
            "  item = {key: torch.tensor(val[idx]) for key, val in self.encodings.items()}\n"
          ]
        }
      ],
      "source": [
        "recover = recoverTrainedModel(model)\n",
        "ytrue, lres = modelMetrics(model, dl_test)"
      ]
    },
    {
      "cell_type": "markdown",
      "metadata": {
        "id": "6hybeQOnm90V"
      },
      "source": [
        "### LOSS Train / Eval"
      ]
    },
    {
      "cell_type": "code",
      "execution_count": null,
      "metadata": {
        "colab": {
          "base_uri": "https://localhost:8080/",
          "height": 279
        },
        "id": "QxdwjNGGm90V",
        "outputId": "ecacf339-e114-48d8-bbf6-054232ab9cd1"
      },
      "outputs": [
        {
          "output_type": "display_data",
          "data": {
            "text/plain": [
              "<Figure size 432x288 with 1 Axes>"
            ],
            "image/png": "[encoded data removed]"
          },
          "metadata": {
            "needs_background": "light"
          }
        }
      ],
      "source": [
        "plotLoss(recover)"
      ]
    },
    {
      "cell_type": "markdown",
      "metadata": {
        "id": "TJ0ed1Ixm90V"
      },
      "source": [
        "### Confusion Matrix"
      ]
    },
    {
      "cell_type": "code",
      "execution_count": null,
      "metadata": {
        "colab": {
          "base_uri": "https://localhost:8080/"
        },
        "id": "yKV-KDPSm90V",
        "outputId": "d9677f7e-6493-4538-a289-aa120c41b593"
      },
      "outputs": [
        {
          "output_type": "stream",
          "name": "stdout",
          "text": [
            "[[19  0  0  0  0  2  1  1  2]\n",
            " [ 2  9  1  0  3  1  0  0  0]\n",
            " [ 0  0  5  0  5  3  0  0  0]\n",
            " [ 2  0  3  7  1  0  3  5  2]\n",
            " [ 0  0  2  0 16  1  1  1  1]\n",
            " [ 0  0  0  2  0 18  0  0  2]\n",
            " [ 0  0  0  1  1  3 12  1  1]\n",
            " [ 2  0  0  2  2  1  0  7  4]\n",
            " [ 2  1  1  0  2  4  0  2 10]]\n"
          ]
        }
      ],
      "source": [
        "print(metrics.confusion_matrix(ytrue, lres))"
      ]
    },
    {
      "cell_type": "markdown",
      "metadata": {
        "id": "e4d14-7zm90V"
      },
      "source": [
        "### Classification"
      ]
    },
    {
      "cell_type": "code",
      "execution_count": null,
      "metadata": {
        "colab": {
          "base_uri": "https://localhost:8080/"
        },
        "id": "u29huSpnm90V",
        "outputId": "c90b13d6-be2d-48bd-c69e-1f55a8d6803f"
      },
      "outputs": [
        {
          "output_type": "stream",
          "name": "stdout",
          "text": [
            "                       precision    recall  f1-score   support\n",
            "\n",
            "         apresentacao       0.70      0.76      0.73        25\n",
            "             cardapio       0.90      0.56      0.69        16\n",
            "        tempo_entrega       0.42      0.38      0.40        13\n",
            "horario_funcionamento       0.58      0.30      0.40        23\n",
            "         fazer_pedido       0.53      0.73      0.62        22\n",
            "     confirmar_pedido       0.55      0.82      0.65        22\n",
            "      cancelar_pedido       0.71      0.63      0.67        19\n",
            "                  sim       0.41      0.39      0.40        18\n",
            "                  nao       0.45      0.45      0.45        22\n",
            "\n",
            "             accuracy                           0.57       180\n",
            "            macro avg       0.58      0.56      0.56       180\n",
            "         weighted avg       0.59      0.57      0.56       180\n",
            "\n"
          ]
        }
      ],
      "source": [
        "print(metrics.classification_report(ytrue, lres, target_names=intentions))"
      ]
    },
    {
      "cell_type": "markdown",
      "metadata": {
        "id": "nnSgV8Rmm90V"
      },
      "source": [
        "### Simple test"
      ]
    },
    {
      "cell_type": "code",
      "execution_count": null,
      "metadata": {
        "colab": {
          "base_uri": "https://localhost:8080/",
          "height": 35
        },
        "id": "3VuaU3kbm90V",
        "outputId": "270fadf6-b1b1-47fe-b0d2-0f4f946b0763"
      },
      "outputs": [
        {
          "output_type": "execute_result",
          "data": {
            "text/plain": [
              "'horario_funcionamento'"
            ],
            "application/vnd.google.colaboratory.intrinsic+json": {
              "type": "string"
            }
          },
          "metadata": {},
          "execution_count": 117
        }
      ],
      "source": [
        "token=tokenizer(\"voce tem uma lista com os sabores das pizzas?\", return_tensors='pt').to(device)\n",
        "pred=model(**token)\n",
        "le.inverse_transform(pred.argmax(dim=-1).cpu())[0]"
      ]
    },
    {
      "cell_type": "markdown",
      "metadata": {
        "id": "O_gFo7O18t70"
      },
      "source": [
        "# Final step - Model neuralmind/bert-base-portuguese-cased full\n",
        "\n",
        "After testing several inputs, this was the best value I got\n",
        "\n",
        "lr=1e-4, betas=(0.9, 0.99), eps=1e-2, weight_decay=0.05"
      ]
    },
    {
      "cell_type": "markdown",
      "metadata": {
        "id": "B0oBlTss9Nup"
      },
      "source": [
        "### Dataset with only 10% of entries for validation"
      ]
    },
    {
      "cell_type": "code",
      "execution_count": null,
      "metadata": {
        "id": "ibvXnKSw9Mxk"
      },
      "outputs": [],
      "source": [
        "xtrain, xval, ytrain, yval = model_selection.train_test_split(xtrain_global, ytrain_global, test_size=0.1, random_state=42, shuffle=True)"
      ]
    },
    {
      "cell_type": "code",
      "execution_count": null,
      "metadata": {
        "colab": {
          "base_uri": "https://localhost:8080/"
        },
        "id": "1htvF83b9esQ",
        "outputId": "2ca4279d-1220-44d2-aaee-57969fda4170"
      },
      "outputs": [
        {
          "output_type": "stream",
          "name": "stderr",
          "text": [
            "Some weights of the model checkpoint at neuralmind/bert-base-portuguese-cased were not used when initializing BertForMaskedLM: ['cls.seq_relationship.weight', 'cls.seq_relationship.bias']\n",
            "- This IS expected if you are initializing BertForMaskedLM from the checkpoint of a model trained on another task or with another architecture (e.g. initializing a BertForSequenceClassification model from a BertForPreTraining model).\n",
            "- This IS NOT expected if you are initializing BertForMaskedLM from the checkpoint of a model that you expect to be exactly identical (initializing a BertForSequenceClassification model from a BertForSequenceClassification model).\n"
          ]
        }
      ],
      "source": [
        "model_pretrained = AutoModelForMaskedLM.from_pretrained('neuralmind/bert-base-portuguese-cased')\n",
        "tokenizer = AutoTokenizer.from_pretrained('neuralmind/bert-base-portuguese-cased', do_lower_case=False)\n",
        "\n",
        "tokenizer.model_max_length=1024\n",
        "\n",
        "train_encodings = tokenizer(xtrain, truncation=True, padding=True, return_tensors='pt')\n",
        "val_encodings = tokenizer(xval, truncation=True, padding=True, return_tensors='pt')\n",
        "\n",
        "ds_train = GenericDataset(train_encodings,le.transform(ytrain))\n",
        "ds_val   = GenericDataset(val_encodings,le.transform(yval))\n",
        "\n",
        "dl_train = DataLoader(ds_train,shuffle=True,batch_size=8)\n",
        "dl_eval  = DataLoader(ds_val,batch_size=8)\n",
        "\n",
        "model = GenericClassifier(model=model_pretrained,name=\"bert-base-portuguese-cased\",labels=intentions).to(device)\n",
        "\n",
        "optimizer = AdamW(model.parameters(), lr=1e-4, betas=(0.9, 0.99), eps=1e-2, weight_decay=0.05)"
      ]
    },
    {
      "cell_type": "code",
      "execution_count": null,
      "metadata": {
        "colab": {
          "base_uri": "https://localhost:8080/"
        },
        "id": "XIAE7SId9iXu",
        "outputId": "cd968954-e0e1-41e9-a850-aafdba16eb74"
      },
      "outputs": [
        {
          "output_type": "stream",
          "name": "stderr",
          "text": [
            "<ipython-input-86-4125cd2d00c9>:7: UserWarning: To copy construct from a tensor, it is recommended to use sourceTensor.clone().detach() or sourceTensor.clone().detach().requires_grad_(True), rather than torch.tensor(sourceTensor).\n",
            "  item = {key: torch.tensor(val[idx]) for key, val in self.encodings.items()}\n"
          ]
        },
        {
          "output_type": "stream",
          "name": "stdout",
          "text": [
            "Best model found!\n",
            "epoch 0 loss_train 1.604 loss_eval 1.526 last_best 1\n",
            "Best model found!\n",
            "epoch 1 loss_train 0.616 loss_eval 0.590 last_best 1\n",
            "Best model found!\n",
            "epoch 2 loss_train 0.303 loss_eval 0.301 last_best 1\n",
            "Best model found!\n",
            "epoch 3 loss_train 0.151 loss_eval 0.166 last_best 1\n",
            "Best model found!\n",
            "epoch 4 loss_train 0.105 loss_eval 0.119 last_best 1\n",
            "Best model found!\n",
            "epoch 5 loss_train 0.065 loss_eval 0.082 last_best 1\n",
            "Best model found!\n",
            "epoch 6 loss_train 0.050 loss_eval 0.079 last_best 1\n",
            "epoch 7 loss_train 0.053 loss_eval 0.083 last_best 2\n",
            "Best model found!\n",
            "epoch 8 loss_train 0.034 loss_eval 0.064 last_best 1\n",
            "Best model found!\n",
            "epoch 9 loss_train 0.026 loss_eval 0.057 last_best 1\n",
            "Best model found!\n",
            "epoch 10 loss_train 0.029 loss_eval 0.055 last_best 1\n",
            "Best model found!\n",
            "epoch 11 loss_train 0.029 loss_eval 0.053 last_best 1\n",
            "Best model found!\n",
            "epoch 12 loss_train 0.020 loss_eval 0.053 last_best 1\n",
            "Best model found!\n",
            "epoch 13 loss_train 0.020 loss_eval 0.052 last_best 1\n",
            "epoch 14 loss_train 0.019 loss_eval 0.053 last_best 2\n",
            "Best model found!\n",
            "epoch 15 loss_train 0.017 loss_eval 0.052 last_best 1\n",
            "epoch 16 loss_train 0.016 loss_eval 0.055 last_best 2\n",
            "epoch 17 loss_train 0.021 loss_eval 0.056 last_best 3\n",
            "Best model found!\n",
            "epoch 18 loss_train 0.019 loss_eval 0.050 last_best 1\n",
            "Best model found!\n",
            "epoch 19 loss_train 0.016 loss_eval 0.046 last_best 1\n",
            "epoch 20 loss_train 0.014 loss_eval 0.053 last_best 2\n",
            "epoch 21 loss_train 0.014 loss_eval 0.053 last_best 3\n",
            "epoch 22 loss_train 0.015 loss_eval 0.050 last_best 4\n",
            "epoch 23 loss_train 0.015 loss_eval 0.057 last_best 5\n",
            "epoch 24 loss_train 0.013 loss_eval 0.053 last_best 6\n"
          ]
        }
      ],
      "source": [
        "trainModel(model, optimizer, dl_train, dl_eval)"
      ]
    },
    {
      "cell_type": "code",
      "execution_count": null,
      "metadata": {
        "colab": {
          "base_uri": "https://localhost:8080/"
        },
        "id": "WMbozHDQ9lMr",
        "outputId": "1417cb4e-0a04-4dfd-a80d-b94475508179"
      },
      "outputs": [
        {
          "output_type": "stream",
          "name": "stderr",
          "text": [
            "<ipython-input-86-4125cd2d00c9>:7: UserWarning: To copy construct from a tensor, it is recommended to use sourceTensor.clone().detach() or sourceTensor.clone().detach().requires_grad_(True), rather than torch.tensor(sourceTensor).\n",
            "  item = {key: torch.tensor(val[idx]) for key, val in self.encodings.items()}\n"
          ]
        }
      ],
      "source": [
        "recover = recoverTrainedModel(model)\n",
        "ytrue, lres = modelMetrics(model, dl_eval)"
      ]
    },
    {
      "cell_type": "code",
      "execution_count": null,
      "metadata": {
        "colab": {
          "base_uri": "https://localhost:8080/",
          "height": 279
        },
        "id": "Gkko7DG49nSm",
        "outputId": "7ffd1040-0ef8-44c9-a201-d7b574abe2a8"
      },
      "outputs": [
        {
          "output_type": "display_data",
          "data": {
            "text/plain": [
              "<Figure size 432x288 with 1 Axes>"
            ],
            "image/png": "[encoded data removed]"
          },
          "metadata": {
            "needs_background": "light"
          }
        }
      ],
      "source": [
        "plotLoss(recover)"
      ]
    },
    {
      "cell_type": "code",
      "execution_count": null,
      "metadata": {
        "colab": {
          "base_uri": "https://localhost:8080/"
        },
        "id": "3qkapkC39o1l",
        "outputId": "4ed11e74-8625-494d-f761-5abb11c003d2"
      },
      "outputs": [
        {
          "output_type": "stream",
          "name": "stdout",
          "text": [
            "[[ 8  0  0  0  0  0  1  2  0]\n",
            " [ 0  9  0  0  0  0  0  0  0]\n",
            " [ 0  0  8  0  0  0  0  0  0]\n",
            " [ 0  0  0 13  0  0  2  0  0]\n",
            " [ 0  0  0  0  9  0  0  0  0]\n",
            " [ 0  0  0  0  0 11  0  0  0]\n",
            " [ 0  0  0  0  0  0  7  0  0]\n",
            " [ 0  0  0  0  0  0  1  6  0]\n",
            " [ 0  0  0  0  0  0  0  0 13]]\n"
          ]
        }
      ],
      "source": [
        "print(metrics.confusion_matrix(ytrue, lres))"
      ]
    },
    {
      "cell_type": "code",
      "execution_count": null,
      "metadata": {
        "colab": {
          "base_uri": "https://localhost:8080/"
        },
        "id": "7Mx8lkW_9qRk",
        "outputId": "4369e634-c82b-4ee1-f78c-434e25460e99"
      },
      "outputs": [
        {
          "output_type": "stream",
          "name": "stdout",
          "text": [
            "                       precision    recall  f1-score   support\n",
            "\n",
            "         apresentacao       1.00      0.73      0.84        11\n",
            "             cardapio       1.00      1.00      1.00         9\n",
            "        tempo_entrega       1.00      1.00      1.00         8\n",
            "horario_funcionamento       1.00      0.87      0.93        15\n",
            "         fazer_pedido       1.00      1.00      1.00         9\n",
            "     confirmar_pedido       1.00      1.00      1.00        11\n",
            "      cancelar_pedido       0.64      1.00      0.78         7\n",
            "                  sim       0.75      0.86      0.80         7\n",
            "                  nao       1.00      1.00      1.00        13\n",
            "\n",
            "             accuracy                           0.93        90\n",
            "            macro avg       0.93      0.94      0.93        90\n",
            "         weighted avg       0.95      0.93      0.94        90\n",
            "\n"
          ]
        }
      ],
      "source": [
        "print(metrics.classification_report(ytrue, lres, target_names=intentions))"
      ]
    },
    {
      "cell_type": "code",
      "source": [
        "model_checkpoint = {\n",
        "    'model': model.state_dict(),\n",
        "    'config': model.config,\n",
        "    'intentions': intentions,\n",
        "    'tokenizer': tokenizer\n",
        "}\n",
        "\n",
        "torch.save(model_checkpoint, 'bert-base-portuguese-cased.pth')"
      ],
      "metadata": {
        "id": "q6laYiOvzAMl"
      },
      "execution_count": null,
      "outputs": []
    },
    {
      "cell_type": "markdown",
      "metadata": {
        "id": "A8EJvWqh9s-x"
      },
      "source": [
        "### The chat-bot is using this last trained model, check out the source code on [github](https://github.com/ufms-lab/bert-chat-bot-telegram) ;)"
      ]
    },
    {
      "cell_type": "markdown",
      "metadata": {
        "id": "n69F1_adrywS"
      },
      "source": [
        "#### The following is the implementation that was used in the Chat-bot in AWS Lambda"
      ]
    },
    {
      "cell_type": "code",
      "execution_count": null,
      "metadata": {
        "id": "NfdnLGdJrywS"
      },
      "outputs": [],
      "source": [
        "from transformers import BertForMaskedLM\n",
        "\n",
        "class ChatbotClassifier:\n",
        "  def __init__(self) -> None:\n",
        "    self.device = torch.device(\"cpu\")\n",
        "    self.prediction = ['apresentacao', 'cancelar_pedido', 'cardapio', 'confirmar_pedido',\n",
        "      'fazer_pedido', 'horario_funcionamento', 'nao', 'sim',\n",
        "      'tempo_entrega'] # Here I don't use sklearn, I was having a lot of conflict with the embedded environment in AWS Lambda\n",
        "\n",
        "    # Here is a difference, in AWS Lambda I get the model from S3\n",
        "    model_checkpoint = torch.load(\"bert-base-portuguese-cased.pth\", map_location=self.device)\n",
        "\n",
        "    self.intentions = model_checkpoint['intentions']\n",
        "    self.tokenizer = model_checkpoint['tokenizer']\n",
        "\n",
        "    model_pretrained = BertForMaskedLM(model_checkpoint['config'])\n",
        "\n",
        "    self.model = GenericClassifier(model=model_pretrained ,name=\"bert-base-portuguese-cased\",labels=self.intentions).to(self.device)\n",
        "    self.model.load_state_dict(model_checkpoint['model'])\n",
        "    self.model.eval()\n",
        "\n",
        "  def __call__(self, telegram_message: str) -> str:\n",
        "    token = self.tokenizer(telegram_message, return_tensors='pt').to(self.device)\n",
        "    pred = self.model(**token)\n",
        "    response = self.prediction[pred.argmax(dim=-1).cpu()[0]]\n",
        "\n",
        "    return response\n",
        "\n",
        "classificador = ChatbotClassifier()"
      ]
    },
    {
      "cell_type": "code",
      "execution_count": null,
      "metadata": {
        "colab": {
          "base_uri": "https://localhost:8080/",
          "height": 35
        },
        "id": "IBUQyAIhrywS",
        "outputId": "4d5b0644-9613-4535-9260-de6e606936b3"
      },
      "outputs": [
        {
          "output_type": "execute_result",
          "data": {
            "text/plain": [
              "'cardapio'"
            ],
            "application/vnd.google.colaboratory.intrinsic+json": {
              "type": "string"
            }
          },
          "metadata": {},
          "execution_count": 129
        }
      ],
      "source": [
        "classificador(\"vcs tem cardapio?\")"
      ]
    },
    {
      "cell_type": "code",
      "execution_count": null,
      "metadata": {
        "colab": {
          "base_uri": "https://localhost:8080/",
          "height": 35
        },
        "id": "5sz08c8drywS",
        "outputId": "8b79eaf6-6814-4520-c7a1-eefe95131e01"
      },
      "outputs": [
        {
          "output_type": "execute_result",
          "data": {
            "text/plain": [
              "'apresentacao'"
            ],
            "application/vnd.google.colaboratory.intrinsic+json": {
              "type": "string"
            }
          },
          "metadata": {},
          "execution_count": 130
        }
      ],
      "source": [
        "classificador(\"olá, tudo bem?\")"
      ]
    },
    {
      "cell_type": "code",
      "execution_count": null,
      "metadata": {
        "colab": {
          "base_uri": "https://localhost:8080/",
          "height": 35
        },
        "id": "-K4XHYE1rywS",
        "outputId": "00a17bea-6e45-4389-b62c-23687c66794c"
      },
      "outputs": [
        {
          "output_type": "execute_result",
          "data": {
            "text/plain": [
              "'cancelar_pedido'"
            ],
            "application/vnd.google.colaboratory.intrinsic+json": {
              "type": "string"
            }
          },
          "metadata": {},
          "execution_count": 131
        }
      ],
      "source": [
        "classificador(\"não quero mais o pedido\")"
      ]
    }
  ],
  "metadata": {
    "accelerator": "GPU",
    "colab": {
      "provenance": [],
      "collapsed_sections": [
        "dVMmuzoijoID"
      ]
    },
    "gpuClass": "standard",
    "kernelspec": {
      "display_name": "Python 3.10.8 ('bertimbau')",
      "language": "python",
      "name": "python3"
    },
    "language_info": {
      "codemirror_mode": {
        "name": "ipython",
        "version": 3
      },
      "file_extension": ".py",
      "mimetype": "text/x-python",
      "name": "python",
      "nbconvert_exporter": "python",
      "pygments_lexer": "ipython3",
      "version": "3.10.8"
    },
    "orig_nbformat": 4,
    "vscode": {
      "interpreter": {
        "hash": "678ae322d8af896b93bcbf056783a3677c1dff7bc8d9dce6c07f681d9ae44b89"
      }
    }
  },
  "nbformat": 4,
  "nbformat_minor": 0
}